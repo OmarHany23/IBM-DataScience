{
 "cells": [
  {
   "cell_type": "markdown",
   "id": "2987a6df-71d2-4510-97ff-1c0c41b36a8e",
   "metadata": {},
   "source": [
    "# Data Science Tools and Ecosystem"
   ]
  },
  {
   "cell_type": "markdown",
   "id": "81ce4a82-26de-4181-a025-a49c61ee322f",
   "metadata": {},
   "source": [
    "In this notebook, Data Science Tools and Ecosystem are summarized."
   ]
  },
  {
   "cell_type": "markdown",
   "id": "6ec57d20-a571-41f6-950f-fbad3e66b333",
   "metadata": {},
   "source": [
    "**Objectives:**\n",
    "* List popular Languages for Data Science.\n",
    "* List commonly used Libraries used by Data Scientists.\n",
    "* List Some open source Data Science Tools.\n",
    "* few examples of ecaluating arithmetic expressions in python."
   ]
  },
  {
   "cell_type": "markdown",
   "id": "c2809742-f7c4-4cef-b759-7918ad8787f6",
   "metadata": {},
   "source": [
    "Some of the popular languages that Data Scientists use are:\n",
    "1. Python\n",
    "2. R\n",
    "3. SQL\n",
    "4. Javascript\n",
    "5. Java\n",
    "6. Julia\n",
    "7. Scala\n",
    "8. PHP"
   ]
  },
  {
   "cell_type": "markdown",
   "id": "68d87bd3-9541-4f53-9324-1ea312f43bea",
   "metadata": {},
   "source": [
    "Some of the commonly used Libraries used by Data Scientists include:\n",
    "1. Pandas\n",
    "2. NumPy\n",
    "3. TensorFlow\n",
    "4. Keras\n",
    "5. Scikit-learn\n",
    "6. Vegas\n",
    "7. PyTorch"
   ]
  },
  {
   "cell_type": "markdown",
   "id": "6094e0a9-4989-4bc6-b2f4-6f40d82627e1",
   "metadata": {},
   "source": [
    "| Data Science Tools |\n",
    " ----------------------------\n",
    "| RStudio |\n",
    "| Anacpnda |\n",
    "| Jupyter Notebooks |\n",
    "| Spyder |"
   ]
  },
  {
   "cell_type": "markdown",
   "id": "f24e4b6e-8ac5-41ff-8b70-d4f239c0518c",
   "metadata": {},
   "source": [
    "### Below are a few examples of ecaluating arithmetic expressions in python"
   ]
  },
  {
   "cell_type": "code",
   "execution_count": 3,
   "id": "e22299c3-cfa9-4d3f-bae2-283f86750c3a",
   "metadata": {
    "tags": []
   },
   "outputs": [
    {
     "data": {
      "text/plain": [
       "17"
      ]
     },
     "execution_count": 3,
     "metadata": {},
     "output_type": "execute_result"
    }
   ],
   "source": [
    "# This a simple arithmetic expression to multiply then add integers.\n",
    "(3*4)+5"
   ]
  },
  {
   "cell_type": "code",
   "execution_count": 4,
   "id": "1d546595-86a9-4097-9d77-b2fa654e3f10",
   "metadata": {
    "tags": []
   },
   "outputs": [
    {
     "data": {
      "text/plain": [
       "3.3333333333333335"
      ]
     },
     "execution_count": 4,
     "metadata": {},
     "output_type": "execute_result"
    }
   ],
   "source": [
    "# This Will convert 200 minutes to hours by dividing by 60.\n",
    "200/60"
   ]
  },
  {
   "cell_type": "markdown",
   "id": "8dbf914d-6b83-49b6-83c1-e74a6842de7c",
   "metadata": {},
   "source": [
    "## Author\n",
    "OMAR HANY"
   ]
  },
  {
   "cell_type": "code",
   "execution_count": null,
   "id": "17a08b19-a614-43f3-8f81-a89471708e43",
   "metadata": {},
   "outputs": [],
   "source": []
  }
 ],
 "metadata": {
  "kernelspec": {
   "display_name": "Python 3 (ipykernel)",
   "language": "python",
   "name": "python3"
  },
  "language_info": {
   "codemirror_mode": {
    "name": "ipython",
    "version": 3
   },
   "file_extension": ".py",
   "mimetype": "text/x-python",
   "name": "python",
   "nbconvert_exporter": "python",
   "pygments_lexer": "ipython3",
   "version": "3.11.5"
  }
 },
 "nbformat": 4,
 "nbformat_minor": 5
}
